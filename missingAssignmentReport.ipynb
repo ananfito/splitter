{
 "cells": [
  {
   "cell_type": "code",
   "execution_count": 49,
   "metadata": {},
   "outputs": [],
   "source": [
    "# import libraries\n",
    "import pandas as pd\n",
    "import numpy as np\n",
    "from datetime import date\n",
    "\n",
    "# returns the current local date\n",
    "today = date.today()"
   ]
  },
  {
   "cell_type": "code",
   "execution_count": 92,
   "metadata": {},
   "outputs": [],
   "source": [
    "dataPath = '/Users/anthonynanfito/Documents/GitHub/splitter/data.csv'\n",
    "\n",
    "# reads CSV file and creates data frame\n",
    "data = pd.read_csv(dataPath)"
   ]
  },
  {
   "cell_type": "code",
   "execution_count": 3,
   "metadata": {},
   "outputs": [
    {
     "data": {
      "text/html": [
       "<div>\n",
       "<style scoped>\n",
       "    .dataframe tbody tr th:only-of-type {\n",
       "        vertical-align: middle;\n",
       "    }\n",
       "\n",
       "    .dataframe tbody tr th {\n",
       "        vertical-align: top;\n",
       "    }\n",
       "\n",
       "    .dataframe thead th {\n",
       "        text-align: right;\n",
       "    }\n",
       "</style>\n",
       "<table border=\"1\" class=\"dataframe\">\n",
       "  <thead>\n",
       "    <tr style=\"text-align: right;\">\n",
       "      <th></th>\n",
       "      <th>Name</th>\n",
       "      <th>Assignment 1</th>\n",
       "      <th>Assignment 2</th>\n",
       "      <th>Assignment 3</th>\n",
       "      <th>Assessment 1</th>\n",
       "      <th>Assessment 2</th>\n",
       "      <th>Total</th>\n",
       "    </tr>\n",
       "  </thead>\n",
       "  <tbody>\n",
       "    <tr>\n",
       "      <th>0</th>\n",
       "      <td>Bob</td>\n",
       "      <td>98.0</td>\n",
       "      <td>98.0</td>\n",
       "      <td>98.0</td>\n",
       "      <td>98.0</td>\n",
       "      <td>98.0</td>\n",
       "      <td>98%</td>\n",
       "    </tr>\n",
       "    <tr>\n",
       "      <th>1</th>\n",
       "      <td>Tom</td>\n",
       "      <td>85.0</td>\n",
       "      <td>85.0</td>\n",
       "      <td>85.0</td>\n",
       "      <td>85.0</td>\n",
       "      <td>85.0</td>\n",
       "      <td>85%</td>\n",
       "    </tr>\n",
       "    <tr>\n",
       "      <th>2</th>\n",
       "      <td>Sally</td>\n",
       "      <td>78.0</td>\n",
       "      <td>78.0</td>\n",
       "      <td>78.0</td>\n",
       "      <td>78.0</td>\n",
       "      <td>NaN</td>\n",
       "      <td>62.4%</td>\n",
       "    </tr>\n",
       "    <tr>\n",
       "      <th>3</th>\n",
       "      <td>John</td>\n",
       "      <td>98.0</td>\n",
       "      <td>NaN</td>\n",
       "      <td>98.0</td>\n",
       "      <td>NaN</td>\n",
       "      <td>98.0</td>\n",
       "      <td>58.8%</td>\n",
       "    </tr>\n",
       "    <tr>\n",
       "      <th>4</th>\n",
       "      <td>Jake</td>\n",
       "      <td>99.0</td>\n",
       "      <td>99.0</td>\n",
       "      <td>99.0</td>\n",
       "      <td>99.0</td>\n",
       "      <td>99.0</td>\n",
       "      <td>99%</td>\n",
       "    </tr>\n",
       "    <tr>\n",
       "      <th>5</th>\n",
       "      <td>Barbara</td>\n",
       "      <td>93.0</td>\n",
       "      <td>93.0</td>\n",
       "      <td>93.0</td>\n",
       "      <td>93.0</td>\n",
       "      <td>93.0</td>\n",
       "      <td>93%</td>\n",
       "    </tr>\n",
       "    <tr>\n",
       "      <th>6</th>\n",
       "      <td>Sue</td>\n",
       "      <td>78.0</td>\n",
       "      <td>78.0</td>\n",
       "      <td>78.0</td>\n",
       "      <td>78.0</td>\n",
       "      <td>78.0</td>\n",
       "      <td>78%</td>\n",
       "    </tr>\n",
       "    <tr>\n",
       "      <th>7</th>\n",
       "      <td>Susy</td>\n",
       "      <td>NaN</td>\n",
       "      <td>87.0</td>\n",
       "      <td>87.0</td>\n",
       "      <td>87.0</td>\n",
       "      <td>87.0</td>\n",
       "      <td>69.6%</td>\n",
       "    </tr>\n",
       "    <tr>\n",
       "      <th>8</th>\n",
       "      <td>Ella</td>\n",
       "      <td>88.0</td>\n",
       "      <td>88.0</td>\n",
       "      <td>88.0</td>\n",
       "      <td>NaN</td>\n",
       "      <td>88.0</td>\n",
       "      <td>70.4%</td>\n",
       "    </tr>\n",
       "    <tr>\n",
       "      <th>9</th>\n",
       "      <td>Giancarlo</td>\n",
       "      <td>90.0</td>\n",
       "      <td>90.0</td>\n",
       "      <td>90.0</td>\n",
       "      <td>90.0</td>\n",
       "      <td>90.0</td>\n",
       "      <td>90%</td>\n",
       "    </tr>\n",
       "    <tr>\n",
       "      <th>10</th>\n",
       "      <td>Stella</td>\n",
       "      <td>95.0</td>\n",
       "      <td>95.0</td>\n",
       "      <td>95.0</td>\n",
       "      <td>95.0</td>\n",
       "      <td>95.0</td>\n",
       "      <td>95%</td>\n",
       "    </tr>\n",
       "    <tr>\n",
       "      <th>11</th>\n",
       "      <td>Sofia</td>\n",
       "      <td>100.0</td>\n",
       "      <td>100.0</td>\n",
       "      <td>NaN</td>\n",
       "      <td>100.0</td>\n",
       "      <td>100.0</td>\n",
       "      <td>80%</td>\n",
       "    </tr>\n",
       "    <tr>\n",
       "      <th>12</th>\n",
       "      <td>Ricardo</td>\n",
       "      <td>100.0</td>\n",
       "      <td>100.0</td>\n",
       "      <td>100.0</td>\n",
       "      <td>100.0</td>\n",
       "      <td>100.0</td>\n",
       "      <td>100%</td>\n",
       "    </tr>\n",
       "  </tbody>\n",
       "</table>\n",
       "</div>"
      ],
      "text/plain": [
       "         Name  Assignment 1  Assignment 2  Assignment 3  Assessment 1  \\\n",
       "0         Bob          98.0          98.0          98.0          98.0   \n",
       "1         Tom          85.0          85.0          85.0          85.0   \n",
       "2       Sally          78.0          78.0          78.0          78.0   \n",
       "3        John          98.0           NaN          98.0           NaN   \n",
       "4        Jake          99.0          99.0          99.0          99.0   \n",
       "5     Barbara          93.0          93.0          93.0          93.0   \n",
       "6         Sue          78.0          78.0          78.0          78.0   \n",
       "7        Susy           NaN          87.0          87.0          87.0   \n",
       "8        Ella          88.0          88.0          88.0           NaN   \n",
       "9   Giancarlo          90.0          90.0          90.0          90.0   \n",
       "10     Stella          95.0          95.0          95.0          95.0   \n",
       "11      Sofia         100.0         100.0           NaN         100.0   \n",
       "12    Ricardo         100.0         100.0         100.0         100.0   \n",
       "\n",
       "    Assessment 2  Total  \n",
       "0           98.0    98%  \n",
       "1           85.0    85%  \n",
       "2            NaN  62.4%  \n",
       "3           98.0  58.8%  \n",
       "4           99.0    99%  \n",
       "5           93.0    93%  \n",
       "6           78.0    78%  \n",
       "7           87.0  69.6%  \n",
       "8           88.0  70.4%  \n",
       "9           90.0    90%  \n",
       "10          95.0    95%  \n",
       "11         100.0    80%  \n",
       "12         100.0   100%  "
      ]
     },
     "execution_count": 3,
     "metadata": {},
     "output_type": "execute_result"
    }
   ],
   "source": [
    "data "
   ]
  },
  {
   "cell_type": "code",
   "execution_count": 4,
   "metadata": {},
   "outputs": [
    {
     "data": {
      "text/plain": [
       "Name            Sally\n",
       "Assignment 1     78.0\n",
       "Assignment 2     78.0\n",
       "Assignment 3     78.0\n",
       "Assessment 1     78.0\n",
       "Assessment 2      NaN\n",
       "Total           62.4%\n",
       "Name: 2, dtype: object"
      ]
     },
     "execution_count": 4,
     "metadata": {},
     "output_type": "execute_result"
    }
   ],
   "source": [
    "data.iloc[2]"
   ]
  },
  {
   "cell_type": "code",
   "execution_count": 22,
   "metadata": {},
   "outputs": [
    {
     "data": {
      "text/html": [
       "<div>\n",
       "<style scoped>\n",
       "    .dataframe tbody tr th:only-of-type {\n",
       "        vertical-align: middle;\n",
       "    }\n",
       "\n",
       "    .dataframe tbody tr th {\n",
       "        vertical-align: top;\n",
       "    }\n",
       "\n",
       "    .dataframe thead th {\n",
       "        text-align: right;\n",
       "    }\n",
       "</style>\n",
       "<table border=\"1\" class=\"dataframe\">\n",
       "  <thead>\n",
       "    <tr style=\"text-align: right;\">\n",
       "      <th></th>\n",
       "      <th>Name</th>\n",
       "      <th>Assignment 1</th>\n",
       "      <th>Assignment 2</th>\n",
       "      <th>Assignment 3</th>\n",
       "      <th>Assessment 1</th>\n",
       "      <th>Assessment 2</th>\n",
       "      <th>Total</th>\n",
       "    </tr>\n",
       "  </thead>\n",
       "  <tbody>\n",
       "    <tr>\n",
       "      <th>7</th>\n",
       "      <td>Susy</td>\n",
       "      <td>NaN</td>\n",
       "      <td>87.0</td>\n",
       "      <td>87.0</td>\n",
       "      <td>87.0</td>\n",
       "      <td>87.0</td>\n",
       "      <td>69.6%</td>\n",
       "    </tr>\n",
       "  </tbody>\n",
       "</table>\n",
       "</div>"
      ],
      "text/plain": [
       "   Name  Assignment 1  Assignment 2  Assignment 3  Assessment 1  Assessment 2  \\\n",
       "7  Susy           NaN          87.0          87.0          87.0          87.0   \n",
       "\n",
       "   Total  \n",
       "7  69.6%  "
      ]
     },
     "execution_count": 22,
     "metadata": {},
     "output_type": "execute_result"
    }
   ],
   "source": [
    "data[data['Assignment 1'].isna()]"
   ]
  },
  {
   "cell_type": "code",
   "execution_count": null,
   "metadata": {},
   "outputs": [],
   "source": [
    "i = 0\n",
    "while i < len(data):\n",
    "        print(data.iloc[i])\n",
    "        i+=1"
   ]
  },
  {
   "cell_type": "code",
   "execution_count": 56,
   "metadata": {},
   "outputs": [
    {
     "data": {
      "text/plain": [
       "['Name',\n",
       " 'Assignment 1',\n",
       " 'Assignment 2',\n",
       " 'Assignment 3',\n",
       " 'Assessment 1',\n",
       " 'Assessment 2',\n",
       " 'Total']"
      ]
     },
     "execution_count": 56,
     "metadata": {},
     "output_type": "execute_result"
    }
   ],
   "source": [
    "columnTitles = list(data) # creates array of column names\n",
    "columnTitles"
   ]
  },
  {
   "cell_type": "code",
   "execution_count": 57,
   "metadata": {},
   "outputs": [
    {
     "data": {
      "text/plain": [
       "7"
      ]
     },
     "execution_count": 57,
     "metadata": {},
     "output_type": "execute_result"
    }
   ],
   "source": [
    "len(columnTitles)"
   ]
  },
  {
   "cell_type": "code",
   "execution_count": 51,
   "metadata": {},
   "outputs": [
    {
     "data": {
      "text/plain": [
       "numpy.float64"
      ]
     },
     "execution_count": 51,
     "metadata": {},
     "output_type": "execute_result"
    }
   ],
   "source": [
    "type(data.iloc[7]['Assignment 1'])"
   ]
  },
  {
   "cell_type": "code",
   "execution_count": 52,
   "metadata": {},
   "outputs": [
    {
     "data": {
      "text/plain": [
       "'nan'"
      ]
     },
     "execution_count": 52,
     "metadata": {},
     "output_type": "execute_result"
    }
   ],
   "source": [
    "data.iloc[7]['Assignment 1'].astype(str)"
   ]
  },
  {
   "cell_type": "code",
   "execution_count": 54,
   "metadata": {},
   "outputs": [
    {
     "name": "stdout",
     "output_type": "stream",
     "text": [
      "success\n"
     ]
    }
   ],
   "source": [
    "if data.iloc[7]['Assignment 1'].astype(str) == 'nan':\n",
    "    print(\"success\")\n",
    "else:\n",
    "    print(\"no dice\")"
   ]
  },
  {
   "attachments": {},
   "cell_type": "markdown",
   "metadata": {},
   "source": [
    "Currently the code below finds the missing assingments, but I'm unsure of how the data should be stored so that it can be used to generate a report. Right now, it stores them as a dictionary BUT it lists multiple entries for someone with more than one missing asssignment. I want to find a way to make it so that it's stored in one place. "
   ]
  },
  {
   "cell_type": "code",
   "execution_count": 125,
   "metadata": {},
   "outputs": [
    {
     "name": "stdout",
     "output_type": "stream",
     "text": [
      "{'stuName1': ['assign1', 'quiz1'], 'stuName2': ['assign1']}\n"
     ]
    },
    {
     "data": {
      "text/plain": [
       "'assign1'"
      ]
     },
     "execution_count": 125,
     "metadata": {},
     "output_type": "execute_result"
    }
   ],
   "source": [
    "studentMissingWorkDict = {\n",
    "    'stuName1' : ['assign1', 'quiz1'],\n",
    "    'stuName2' : ['assign1']\n",
    "}\n",
    "print(studentMissingWorkDict)\n",
    "studentMissingWorkDict['stuName1'][0]"
   ]
  },
  {
   "cell_type": "code",
   "execution_count": 111,
   "metadata": {},
   "outputs": [],
   "source": [
    "studentMissingWorkDict.get('stuName1').append('red')"
   ]
  },
  {
   "cell_type": "code",
   "execution_count": 116,
   "metadata": {},
   "outputs": [
    {
     "name": "stdout",
     "output_type": "stream",
     "text": [
      "it's there\n"
     ]
    }
   ],
   "source": [
    "if 'stuName2' not in studentMissingWorkDict.keys():\n",
    "    print(\"it's not there\")\n",
    "else:\n",
    "    print(\"it's there\")"
   ]
  },
  {
   "cell_type": "code",
   "execution_count": 127,
   "metadata": {},
   "outputs": [
    {
     "name": "stdout",
     "output_type": "stream",
     "text": [
      "data: {'Sally': ['Assessment 2'], 'John': ['Assignment 2', 'Assessment 1'], 'Susy': ['Assignment 1'], 'Ella': ['Assessment 1'], 'Sofia': ['Assignment 3']}\n"
     ]
    }
   ],
   "source": [
    "i = 0\n",
    "columnTitles = list(data) # creates array of column names\n",
    "studentsMissingWork = {}\n",
    "while i < len(data):\n",
    "    j = 1\n",
    "    while j < len(columnTitles) - 1:\n",
    "        if data.iloc[i][columnTitles[j]].astype(str) == 'nan':\n",
    "            if data.iloc[i][columnTitles[0]] not in studentsMissingWork.keys():\n",
    "                studentsMissingWork.update({data.iloc[i][columnTitles[0]]: [columnTitles[j]]})\n",
    "            else:\n",
    "                studentsMissingWork.get(data.iloc[i][columnTitles[0]]).append(columnTitles[j])\n",
    "        j+=1\n",
    "    i+=1\n",
    "\n",
    "# can't use DF because columns need to be the same length\n",
    "# stuMissingWorkDF = pd.DataFrame(studentsMissingWork)\n",
    "# stuMissingWorkDF\n",
    "\n",
    "# try using a for loop to iterate over the dictionary studentsMissingWork and print a list\n",
    "# this list could be saved to a text file with the students name\n",
    "for student in studentsMissingWork:\n",
    "    file = open('%s_%s.txt' % (today, student), 'w')\n",
    "    file.write('Below is a list of the assignment(s) you are missing. Please complete for credit, then email me me your list of completed assignment(s) with their new scores. Thank you. \\n%s' % studentsMissingWork[student])\n",
    "    file.close()"
   ]
  }
 ],
 "metadata": {
  "kernelspec": {
   "display_name": "Python 3",
   "language": "python",
   "name": "python3"
  },
  "language_info": {
   "codemirror_mode": {
    "name": "ipython",
    "version": 3
   },
   "file_extension": ".py",
   "mimetype": "text/x-python",
   "name": "python",
   "nbconvert_exporter": "python",
   "pygments_lexer": "ipython3",
   "version": "3.10.4"
  },
  "orig_nbformat": 4,
  "vscode": {
   "interpreter": {
    "hash": "aee8b7b246df8f9039afb4144a1f6fd8d2ca17a180786b69acc140d282b71a49"
   }
  }
 },
 "nbformat": 4,
 "nbformat_minor": 2
}
